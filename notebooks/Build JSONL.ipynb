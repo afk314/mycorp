{
 "cells": [
  {
   "cell_type": "code",
   "execution_count": 325,
   "metadata": {},
   "outputs": [],
   "source": [
    "import requests\n",
    "import json\n"
   ]
  },
  {
   "cell_type": "code",
   "execution_count": 326,
   "metadata": {
    "collapsed": true
   },
   "outputs": [],
   "source": [
    "evnapi_server = 'hw-en-pcrs-ap01'\n",
    "evnapi_port = '8088'\n",
    "evn_api_endpoint = '/v1/evn/assets/'\n",
    "\n",
    "asset = 'abn3113'\n"
   ]
  },
  {
   "cell_type": "code",
   "execution_count": 327,
   "metadata": {
    "collapsed": true
   },
   "outputs": [],
   "source": [
    "def get_page(asset_id):\n",
    "    url = 'http://'+evnapi_server+':'+evnapi_port+evn_api_endpoint+asset_id\n",
    "    r = requests.get(url)\n",
    "    if (not r.ok):\n",
    "        exit('Failed to load asset '+asset_id)\n",
    "    return json.loads(r.content)"
   ]
  },
  {
   "cell_type": "code",
   "execution_count": 364,
   "metadata": {
    "collapsed": true
   },
   "outputs": [],
   "source": [
    "def drop_unnecessary(metadata):\n",
    "    remove = ['_id', 'content_asset_id', 'id', 'last_updated', 'codewords', 'asset_relations', 'facets', 'behaviorChange', 'codes', 'keywords', 'emr_max_age', 'emr_min_age','specialties','cached', 'hash']\n",
    "    for remove_me in remove:\n",
    "        del metadata[remove_me]"
   ]
  },
  {
   "cell_type": "code",
   "execution_count": 385,
   "metadata": {
    "collapsed": true
   },
   "outputs": [],
   "source": [
    "def concepts_to_int(metadata):\n",
    "    # Handle nested concepts    \n",
    "    concept_ids = set()\n",
    "    for concept in metadata['concepts']:\n",
    "        int_id = int(concept['concept_id'][5:])\n",
    "        concept_ids.add(int_id)\n",
    "    return list(concept_ids)"
   ]
  },
  {
   "cell_type": "code",
   "execution_count": 386,
   "metadata": {
    "collapsed": true
   },
   "outputs": [],
   "source": [
    "def categories_to_int(metadata):\n",
    "    category_ids = set()\n",
    "    for cat in metadata['categories']:\n",
    "        c = int(cat['id'][3:])\n",
    "        category_ids.add(c)\n",
    "    return list(category_ids)"
   ]
  },
  {
   "cell_type": "code",
   "execution_count": 387,
   "metadata": {
    "collapsed": true
   },
   "outputs": [],
   "source": [
    "def genders_to_int(metadata):\n",
    "    \n",
    "    # 0 = female, 1 = male, 2 = both\n",
    "    \n",
    "    gender = 0\n",
    "    if (len(metadata['gender']) > 1):\n",
    "        gender = 2\n",
    "    elif (metadata['gender'][0] == 'male'):\n",
    "        gender = 1\n",
    "    else:\n",
    "        gender = 0\n",
    "    return gender"
   ]
  },
  {
   "cell_type": "code",
   "execution_count": 388,
   "metadata": {
    "collapsed": true
   },
   "outputs": [],
   "source": [
    "def audience_to_int(metadata):\n",
    "    \n",
    "    # 0 = none, 1 = Caregiver, 2 = Parent, 3 = Patient, 4 = many\n",
    "    \n",
    "   \n",
    "    if (len(metadata['audience']) == 0):\n",
    "        return 0\n",
    "    elif (len(metadata['audience']) > 1):\n",
    "        return 4\n",
    "    elif (metadata['audience'][0] == 'Caregiver'):\n",
    "        return 1\n",
    "    elif (metadata['audience'][0] == 'Parent'):\n",
    "        return 2\n",
    "    else:\n",
    "        return 3\n"
   ]
  },
  {
   "cell_type": "code",
   "execution_count": 389,
   "metadata": {
    "collapsed": true
   },
   "outputs": [],
   "source": [
    "def settings_to_int(metadata):\n",
    "    \n",
    "    # 0 = none, inpatient = 1, outpatient = 2, many = 3\n",
    "    \n",
    " \n",
    "    if (len(metadata['delivery_setting']) == 0):\n",
    "        return 0\n",
    "    elif (len(metadata['delivery_setting']) > 1):\n",
    "        return 3\n",
    "    elif (metadata['delivery_setting'][0] == 'Outpatient'):\n",
    "        return 2\n",
    "    else:\n",
    "        return 1\n",
    "    return setting"
   ]
  },
  {
   "cell_type": "code",
   "execution_count": 402,
   "metadata": {},
   "outputs": [],
   "source": [
    "def clean_metadata(metadata):\n",
    "    drop_unnecessary(metadata)\n",
    "        \n",
    "    # Handle nested concepts    \n",
    "    concept_ids = concepts_to_int(metadata)\n",
    "    metadata['concepts'] = concept_ids\n",
    "    \n",
    "    \n",
    "    # Handle nested categories\n",
    "    category_ids = categories_to_int(metadata)\n",
    "\n",
    "    metadata['categories'] = category_ids\n",
    "    \n",
    "    # Handle Gender\n",
    "    genders = genders_to_int(metadata)\n",
    "    metadata['gender'] = genders\n",
    "    \n",
    "    # Handle Gender\n",
    "    settings = setting_to_int(metadata)\n",
    "    del metadata['delivery_setting']\n",
    "    metadata['setting'] = settings\n",
    "    \n",
    "    #Handle Audience\n",
    "    audience = audience_to_int(metadata)\n",
    "    metadata['audience'] = audience\n",
    "    \n",
    "\n",
    "    \n",
    "    \n",
    "    return metadata"
   ]
  },
  {
   "cell_type": "code",
   "execution_count": 403,
   "metadata": {
    "collapsed": true
   },
   "outputs": [],
   "source": [
    "response = get_page(asset)"
   ]
  },
  {
   "cell_type": "code",
   "execution_count": 404,
   "metadata": {},
   "outputs": [],
   "source": [
    "x = clean_metadata(response)"
   ]
  },
  {
   "cell_type": "code",
   "execution_count": 405,
   "metadata": {},
   "outputs": [
    {
     "data": {
      "text/plain": [
       "{'audience': 2,\n",
       " 'categories': [1028, 1007],\n",
       " 'concepts': [5064],\n",
       " 'gender': 2,\n",
       " 'max_age': 18,\n",
       " 'min_age': 2,\n",
       " 'setting': 1}"
      ]
     },
     "execution_count": 405,
     "metadata": {},
     "output_type": "execute_result"
    }
   ],
   "source": [
    "x"
   ]
  },
  {
   "cell_type": "code",
   "execution_count": null,
   "metadata": {
    "collapsed": true
   },
   "outputs": [],
   "source": []
  },
  {
   "cell_type": "code",
   "execution_count": null,
   "metadata": {
    "collapsed": true
   },
   "outputs": [],
   "source": []
  },
  {
   "cell_type": "code",
   "execution_count": null,
   "metadata": {
    "collapsed": true
   },
   "outputs": [],
   "source": []
  },
  {
   "cell_type": "code",
   "execution_count": null,
   "metadata": {
    "collapsed": true
   },
   "outputs": [],
   "source": []
  }
 ],
 "metadata": {
  "kernelspec": {
   "display_name": "Python 3",
   "language": "python",
   "name": "python3"
  },
  "language_info": {
   "codemirror_mode": {
    "name": "ipython",
    "version": 3
   },
   "file_extension": ".py",
   "mimetype": "text/x-python",
   "name": "python",
   "nbconvert_exporter": "python",
   "pygments_lexer": "ipython3",
   "version": "3.6.3"
  }
 },
 "nbformat": 4,
 "nbformat_minor": 2
}
