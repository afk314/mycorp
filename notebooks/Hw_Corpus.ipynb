{
 "cells": [
  {
   "cell_type": "code",
   "execution_count": 1,
   "metadata": {
    "collapsed": true
   },
   "outputs": [],
   "source": [
    "import nltk"
   ]
  },
  {
   "cell_type": "code",
   "execution_count": 2,
   "metadata": {
    "collapsed": true
   },
   "outputs": [],
   "source": [
    "TEXT_DIR = '../output/'"
   ]
  },
  {
   "cell_type": "code",
   "execution_count": 3,
   "metadata": {
    "collapsed": true
   },
   "outputs": [],
   "source": [
    "def buildCorpus():\n",
    "    from nltk.corpus import PlaintextCorpusReader\n",
    "    return PlaintextCorpusReader(TEXT_DIR, '.*')"
   ]
  },
  {
   "cell_type": "code",
   "execution_count": 4,
   "metadata": {},
   "outputs": [
    {
     "name": "stdout",
     "output_type": "stream",
     "text": [
      "5, 12, 2 : aa100180.txt\n",
      "5, 14, 2 : aa100355.txt\n",
      "6, 14, 2 : aa100367.txt\n",
      "5, 15, 5 : aa10253.txt\n",
      "4, 12, 2 : aa102542.txt\n",
      "5, 13, 3 : aa102611.txt\n",
      "5, 13, 2 : aa102618.txt\n",
      "6, 7, 1 : aa103080.txt\n",
      "5, 15, 2 : aa103823.txt\n",
      "6, 18, 2 : aa104339spec.txt\n"
     ]
    }
   ],
   "source": [
    "corpus = buildCorpus()\n",
    "fileids = corpus.fileids()\n",
    "fileids = fileids[0:10]\n",
    "for fileid in fileids:\n",
    "    num_chars = len(corpus.raw(fileid))\n",
    "    num_words = len(corpus.words(fileid))\n",
    "    num_sents = len(corpus.sents(fileid))\n",
    "    num_vocab = len(set([w.lower() for w in corpus.words(fileid)]))\n",
    "    print(str(round(num_chars/num_words))+\", \"+str(round(num_words/num_sents))+\", \"+str(round(num_words/num_vocab))+\" : \"+fileid)\n"
   ]
  },
  {
   "cell_type": "code",
   "execution_count": 5,
   "metadata": {},
   "outputs": [
    {
     "name": "stdout",
     "output_type": "stream",
     "text": [
      "[['polyhydramnios'], ['topic', 'overview'], ...]\n"
     ]
    }
   ],
   "source": [
    "print(corpus.sents())"
   ]
  },
  {
   "cell_type": "markdown",
   "metadata": {},
   "source": [
    "_Frequenc Distribution_ - counter object - mapping of a word to an integer (its count)\n",
    "\n",
    "If we count the number of keys, those are unique words - vocabulary\n",
    "Word count = sum of the values \n",
    "Lexical diversity - average number of times a word occurs X times"
   ]
  },
  {
   "cell_type": "code",
   "execution_count": 6,
   "metadata": {
    "collapsed": true
   },
   "outputs": [],
   "source": [
    "counts  = nltk.FreqDist(corpus.words())\n",
    "vocab   = len(counts.keys())\n",
    "words   = sum(counts.values())\n",
    "lexdiv  = float(words) / float(vocab)"
   ]
  },
  {
   "cell_type": "code",
   "execution_count": 7,
   "metadata": {},
   "outputs": [
    {
     "name": "stdout",
     "output_type": "stream",
     "text": [
      "Corpus has 88058 types and 21948380 tokens for a lexical diversity of 249.249\n"
     ]
    }
   ],
   "source": [
    "print(\"Corpus has %i types and %i tokens for a lexical diversity of %0.3f\" % (vocab, words, lexdiv))"
   ]
  },
  {
   "cell_type": "code",
   "execution_count": 43,
   "metadata": {},
   "outputs": [
    {
     "name": "stdout",
     "output_type": "stream",
     "text": [
      "[('.', 1076636), (',', 966122), ('the', 642264), ('of', 502463), ('and', 413520), ('to', 392346), ('a', 388693), ('*', 325308), ('in', 319793), ('or', 305083), ('-', 297601), ('your', 260852), ('you', 250547), ('with', 224854), ('is', 208724), ('(', 191190), ('for', 180748), ('that', 145105), ('may', 140575), ('not', 122292), ('be', 120790), ('if', 117955), ('have', 114100), ('are', 108621), ('can', 107686), (':', 104457), ('as', 101063), ('this', 95346), ('it', 94375), ('cancer', 90366), ('doctor', 87521), ('chemotherapy', 84529), ('vitamin', 79657), (')', 78256), ('by', 72983), (\"'\", 69481), ('on', 68294), ('people', 67641), ('an', 67549), ('taking', 59652)]\n"
     ]
    }
   ],
   "source": [
    "print(counts.most_common(40))"
   ]
  },
  {
   "cell_type": "code",
   "execution_count": 44,
   "metadata": {},
   "outputs": [
    {
     "name": "stdout",
     "output_type": "stream",
     "text": [
      "['siamese', 'trager', 'dancelike', 'mentastics', 'rolfing', 'critics', 'cnme', 'accredit', 'ckd', 'goong', 'headstand', 'vacuumed', 'alh', 'bradyarrhythmias', 'allspice', 'refillable', 'curdling', 'crosscut', 'adust', 'snip', 'hevea', 'brasiliensis', 'nonlatex', 'intelligently', 'grandchild', 'deactivated', 'unsaid', 'forgets', 'storybook', 'anca', 'hypoperfusion', 'governs', 'greed', 'dosha', 'reclosure', 'achondroplastic', 'esis', 'interspinous', 'unwillingly', 'sulfinpyrazone', 'probalan', 'instrumented', 'buffers', 'dieted', 'cheapest', 'achievers', 'heliox', 'intracanal', 'dams', 'binocular', 'crescents', 'glares', 'inaction', 'thanked', 'exchanging', 'devastated', 'insincere', 'unexpressed', 'clergyperson', 'reminiscence', 'genuinely', 'snowstorm', 'snowed', 'tally', '...,\"', 'greeting', 'frightens', 'unfairness', 'rmr', 'disfigure', 'accountants', 'annuity', 'byes', 'reminisce', 'embalming', 'graveside', 'limousine', 'monuments', 'revising', 'massaged', 'cubital', 'pronator', 'fantl', 'arachnophobia', 'thunder', 'astrapophobia', 'hydrophobia', 'acrophobia', 'hemophobia', 'unreality', 'ilar', 'accredits', 'montezuma', 'trots', 'subsalicylates', 'festinating', 'technologically', 'chordal', '!\")', 'notching', 'unicompartmental', 'recurvatum', 'introspection', 'conversing', 'reorient', 'comas', 'payz', 'concealers', 'couvre', 'toppik', 'shoh', 'potpourri', 'recessions', 'eaps', 'stake', 'pantry', 'reorganize', 'danville', 'addictionology', 'governor', 'phlebitic', 'flakier', 'tyramines', 'marinated', 'trampoline', 'nautilus', 'canoe', 'patio', 'subjecting', 'blurt', 'intrude', 'butting', 'overconcentrate', 'eular', 'railings', 'jarred', 'rebleeding', 'nombre', 'bayou', 'sahara', 'chloromycetin', 'bleh', 'formica', 'uncrowded', 'acyf', 'ohs', 'deduct', 'formality', 'budgeting', 'subsidies', 'earnings', 'reimbursed', 'finalize', 'footedness', 'spacious', 'intertrigo', 'pistoning', 'speleologists', 'biologists', 'demons', 'cocking', 'fearfully', 'neologisms', 'wallywhoop', 'clang', 'boughs', 'folly', 'polly', 'hello', 'perseveration', 'echopraxia', 'symbolize', 'metaphors', 'carelessness', 'palpitation', 'oleander', 'pernio', 'windbreaker', 'reflector', 'ensolite', 'headlamp', 'monoplegia', 'triplegia', 'nonspastic', 'diplegic', 'hemiplegic', 'crawls', 'nmes', 'semisolid', 'overturned', 'placemats', 'standers', 'resourcefulness', 'chitosamine', 'chonsurid', 'fraise', 'leveling', 'abrading', 'cryogenic', 'exfoliating', 'wounding', 'sodomy', 'noncommunicative', 'substandard', '])?', 'chromophores', 'vaporizes', 'coolsculpting', 'freer', 'accrediting', 'aaaasf', 'aaahc', 'jointcommission', 'clawlike', 'osteodystrophy', 'hypermagnesemia', 'hepatopulmonary', 'swiftly', 'asma', 'devise', 'detention', 'disapproval', 'disincentives', 'jumbled', 'underdevelop', 'fev2', 'fev3', 'wack', 'supergrass', 'suppressors', 'unbalances', 'autofluorescence', 'quadrillionth', 'pluck', 'dui', '!\"),', 'cornrows', 'kneading', 'ncbtmb', 'outstrip', 'obscures', 'extender', 'bilirubinate', 'microlithiasis', 'pseudolithiasis', 'peritoneovenous', '____________________________________', 'assorted', 'aspirator', 'iontophoresis', 'awn', 'glance', 'overcook', 'pendants', 'charms', 'idealize', 'sportsmanship', 'tournaments', 'blackened', 'braised', 'catheterizationmakes', 'angiogrammakes', 'remarriage', 'sworn', 'broker', 'medicinesthese', 'corticosteroidsthese', 'relieversthese', 'antidepressantsthese', 'enid', 'stairwells', 'clorox', 'marmor', 'nuss', 'vanillin', 'glbt', 'reclaimed', 'genderqueer', 'nonbinary', 'nonconforming', 'transsexual', 'molesters', 'canvas', 'misfires', 'reprogrammed', 'weightless', 'cyp2c19', 'alerted', 'racewalk', '___bpm', '5k', 'reload', 'turbinado', 'preventcolon', 'duvet', 'bedspread', 'broomstick', 'unloading', 'homeowners', 'takeout', 'chops', 'enchiladas', 'ghanoush', 'dolmas', 'creole', 'leds', 'buffed', 'sandblaster', 'slacking', 'dolce', 'begged', 'landscaper', 'omelette', 'yer', 'chitterlings', 'chitlins', 'fluh', 'todecide', 'aquatics', 'breezes', 'grit', 'teaspoonful', 'vagisil', 'maxilube', 'surgilube', 'lettered', 'mosquitos', 'buthe', 'throh', 'growinto', 'ofconditions', 'waive', 'nurr', 'snipped', 'comedogenic', 'assn', 'healthfinder', 'sourdough', 'ciabatta', 'tiers', 'findahealthcenter', 'search_hcc', 'insurekidsnow', 'rwjf', 'coverageforall', 'spyoo', 'tum', 'uridyltransferase', 'galt', 'funniest', 'comedy', 'statfacts', 'littler', 'nawz', 'pawz', 'organdonor', 'statemap', 'opo', 'celebrity', 'sophie', 'auditions', 'rebelling', 'maturely', '_____________________________', '_______________________________________________', '_____________________________________________________', '________________________________________________________', '_______________________________________________________________', 'misread', 'dispensary', 'prosecute', 'uniformed', 'jacobi', 'shareholder', 'ihope', 'medicis', 'galderma', 'intendis', 'imogene', 'cooperstown', 'mbbs', 'wessex', 'avaxia', 'subscriber', 'negotiable', 'valvulotomy', 'churns', 'altum', 'civic', 'kleinert', 'louisville', 'biomimetics', 'hons', 'surrey', 'guildford', 'devon', 'perth', 'handyman', 'longtermcarelink', 'cremated', 'vra', 'appreciates', 'cyber', 'telemundo', 'newsweek', 'altos', 'motherhood', 'manitoba', 'winnipeg', 'crescendo', 'biogen', 'idec', 'medimmune', 'meltaways', 'tweak', 'succedaneum', 'frek', 'clara', 'stoic', 'incredible', 'cherish', 'evelyn', 'causalgia', 'sudeck', 'untangles', '0330', 'guidant', 'thuy', 'decompresses', 'gasped', 'dorms', 'awarerx', 'encrypt', 'criminals', 'expertly', 'coleslaw', 'butterhead', 'iceberg', 'recluses', 'skulls', 'stoppers', 'vectorborne', 'savoring', 'youcan', 'bpmfootnote', 'seedy', 'childstarts', 'overpaying', 'denials', 'lacticare', 'scholastica', 'duluth', 'thinnest', 'reinserts', 'ceramide', 'atopiclair', 'mimyx', 'undoes', 'charities', 'investors', 'stricter', 'charger', 'revolve', 'orderlies', 'oops', 'reconciliation', 'tours', 'returnsblood', 'ffp', 'rockstar', 'accelerade', 'sweated', 'pge', 'folders', 'phrs', 'phr', 'ehr', 'makeover', 'amphibian', 'barnyard', 'creeks', 'puppies', 'healthypets', 'assassin', 'coolest', 'snfs', 'scus', 'goodbyes', 'rbgh', 'rbst', 'growers', 'clonus', 'trypanosoma', 'cruzi', 'transplanting', 'ensheathing', 'schwann', 'neurocontrol', 'locomotion', 'isgoing', 'dayto', '911anytime', 'sternums', 'piz', 'sunlamp', 'bison', 'caribou', 'humus', 'perch', 'nectarine', 'cashew', 'seedless', 'reopened', 'cre', 'pretense', 'caringbridge', 'lotsa', 'lotsahelpinghands', 'thuh', 'detaching', 'suctions', 'mindless', 'celebrates', 'andwhen', 'lookup', 'puckered', '25th', 'socialsecurity', 'medicareonly', 'shiptalk', 'slant', 'powering', 'shrivel', 'sanitize', 'endless', 'kuss', 'zing', 'ahm', 'fal', 'traws', 'kih', 'neuropsychologist', 'noss', 'squeaking', '22ºc', 'sideof', 'fingersbelow', 'yourhand', 'yourbaby', 'waituntil', 'yourbreast', 'thebaby', 'orhear', '__________________________________', 'brookings', 'somecases', 'thesame', 'stoolsl', 'intuition', 'nourishes', 'dads', 'rocker', 'shawl', '_______________________', 'thrash', 'lasering', 'incubators', 'overstimulate', 'pondering', 'sacraments', 'rul', 'chux', 'byanother', 'skåne', 'honningsvåg', 'screwdrivers', 'hoards', 'davita', 'healthsciences', 'ohsu', 'careplus', 'emmi', 'parnassus', 'siemans', 'arame', 'dulse', 'wakame', 'cements', 'abbreviation', '40º', 'artificialaortic', 'certainprocedures', 'yeshiva', 'deaconess', 'phreesia', 'meharry', 'pcori', 'stipend', 'sacrocolpopexy', 'sackler', 'healthnet', 'rejoins', 'vaping', 'rebalancing', '60ml', 'goon', 'echogenic', 'pyelectasis', 'deamidated', 'dgp', 'ssb', 'cardiolipin', 'effectsfootnote', 'neurobehavioral', 'honorarium', 'spokane', 'gillings', '43817', 'gloh', 'collision', 'colliding', 'bythe', 'findthat', 'downsize', 'coronavirus_infections', 'eri', 'ire', 'sair', 'bry', 'endoclip', 'abutment', 'gladly', 'conquering', 'toni', 'granddaughters', 'granny', '!\\'\"', 'swamped', 'nudge', 'unstuck', 'gul', 'droo', 'zun', 'scausing', 'clan', 'pitchers', 'proudly', 'praises', 'itmay', 'winesparkling', 'beerlight', 'festive', 'festivities', 'pureeing', 'fpmrs', 'gyns', 'instructionsfor', 'hmm', 'sprawl', 'nightlight', 'immobilizers', 'congratulated', 'recharged', 'groaning', 'arranges', 'ofmissing', 'themedicine', 'youcarefully', 'childcarefully', 'brownie', 'physician_gls', 'fumbling', 'lover', 'shirley', 'aubrey', 'percolator', 'espresso', 'janie', 'ina', 'vesselinto', 'theblood', 'seenon', 'thedoctor', 'isbulging', 'lacerated', 'flexors', 'extensors', 'patthe', 'thatis', 'totals', '___________mg', 'includeantibiotics', 'surgeryto', 'busiest', 'meds', 'semitendinosus', 'dumbest', 'chita', 'pamela', 'miriam', 'shook', 'tribe', 'cara', 'vowed', 'mysterious', 'beginnings', 'wrinkly', 'acorn', 'honeydew', '3400', 'shawna', 'roberto', 'revs', 'jenn', 'changer', 'alex', 'elva', 'checkout', 'cashier', 'shrugged', 'movesthrough', 'sneaking', 'kettle', 'doodle', 'folks', 'overabundant', 'hyperlactation', 'dribbles', 'whenyou', 'lifestylethey', 'languageproblems', 'ofrecovery', 'ofmistakes', 'progressyou', 'yourrehab', 'sesamoids', 'moyds', 'sesamoiditis', 'miks', 'lactamase', 'yourecover', 'becky', 'greta', 'procolon', 'jamb', 'theseat', 'circled', 'vanessa', 'connie', 'claudia', 'lionel', 'replaying', 'gentler', 'henrietta', 'certificant', 'licentiate', 'hash', 'tweaks', 'painworse', 'foryour', 'upgrading', 'janey', 'injuryheals', 'unlessyour', 'pulmonaryembolism', 'franny', 'highlighters', 'coho', 'rotisserie', 'toasted', 'osteochondral', 'taser', 'phazzer', 'nailbed', 'toolbox', 'ath', 'sharice', 'wagging', 'sylvia', 'doris', 'scorecard', 'scrubs', 'rips', 'submerge', 'ofatrial', 'busier', 'whiteboard', 'strung', 'barrx', 'resectioning', 'steamer', 'mona', 'ezra', '___eat', '___get', '___check', '___have', '___limit', '___something', 'delete', 'offof', 'tpe', 'shavers', 'themself', 'unzip', 'endured', 'consonants', 'mumble', 'guest', 'solo', 'powerhouse', 'kearnes', 'sayre', 'vyuh', 'willclosely', 'stretta', 'fleh', 'baw', 'tair', 'hub', 'dermacentor', 'andersoni', 'entertained', 'soother', 'laptops', 'offenders', 'nosy', 'articulation', 'dood', 'tephone', 'teachuh', '0000000000000439', 'skit', 'feck', 'masako', 'effortful', 'edmr', 'piling', 'jeopardy', 'festival', 'backfires', 'vote', 'dbsalliance', '3632', 'organizers', 'nws', 'noaa', 'otcs', 'hyperextends', 'overbreathing', 'humiliate', 'harnesses', 'sexy', 'quadrants', 'draonline', 'overworks', 'whats', 'compute', 'accusing', 'raves', 'trances', 'hotheaded', 'iguanas', 'codependent', 'cystoplasty', 'ticker', 'kickers', 'camaraderie', 'newcomers', 'blurriness', 'climbs', 'engineer', 'scrapbook', 'atop', 'yosemite', 'motto', 'premeasured', 'uhs', 'thet', 'broh', 'crocus', 'flowerpots', 'peelers', 'pullers', 'nonperfumed', 'anserine', 'printable', 'gaveyou', 'justbelow', 'thearm', 'hush', 'chirping', 'flosses', 'lus', 'snowblowers', 'lanterns', 'tablecloth', 'sleepwear', 'empower', 'adoptee', '911and', 'needlesticks', 'clinicafterward', 'paralyzing', 'informacián', 'detained', 'itinerary', 'paho', 'circovirus', 'approvedproducts', 'ucm205547', 'fevermild', '8999', 'jocks', ')?.', 'pseudoptosis', 'windburn', 'weatherize', 'underactivity', 'jumble', 'boarding', 'unproductive', 'incised', '0034', 'rx652', '5306', 'rx504', '4267', 'ax5307', 'r607', 'acy', 'n947', '4268', '9133', 'p200', '0147', 'p400', '0145', '7992', '7993', 'totacillin', 'l7', '5777', '7045', '7047', 'kefzol', 'fortaz', 'tazicef', 'proquin', 'c1000', 'cip', 'cip500', 'b815', 'cf500', 'rx710', '0864', 'cip750', 'b816', '5313', '0865', 'epaned', '2734', 'genpril', 'proprinal', '0765', '0766', 'caldolor', 'e117', '4366', 'bl232', 'corgard20', 'corgard80', 'bl241', '4235', 'z4237', 'ip188', 'm25', 'l121', 'inv286', 'ip189', 'ip190', 'm50', 'inv287', 'ip193', 'kwih', '5438', 'glauctabs', 'taladine', 'efferdose', 'the150', 't32', 't33', 't35', 'becausee', '0524', 'wymox', 'dicoumarol', '54043', 'imu', 'm471']\n"
     ]
    }
   ],
   "source": [
    "print(counts.hapaxes()[0:1000])"
   ]
  },
  {
   "cell_type": "code",
   "execution_count": 8,
   "metadata": {},
   "outputs": [
    {
     "data": {
      "image/png": "[encoded data removed]",
      "text/plain": [
       "<matplotlib.figure.Figure at 0x7f1937e9e048>"
      ]
     },
     "metadata": {},
     "output_type": "display_data"
    }
   ],
   "source": [
    "counts.plot(50, cumulative=False)"
   ]
  },
  {
   "cell_type": "code",
   "execution_count": 46,
   "metadata": {},
   "outputs": [
    {
     "data": {
      "image/png": "[encoded data removed]",
      "text/plain": [
       "<matplotlib.figure.Figure at 0x7f4917978048>"
      ]
     },
     "metadata": {},
     "output_type": "display_data"
    }
   ],
   "source": [
    "# By setting cumulative to True, we can visualize the cumulative counts of the _n_ most common words.\n",
    "counts.plot(50, cumulative=True)\n"
   ]
  },
  {
   "cell_type": "code",
   "execution_count": 47,
   "metadata": {
    "collapsed": true
   },
   "outputs": [],
   "source": [
    "from gensim.models import Word2Vec\n",
    "hwgensim = Word2Vec(corpus.sents())"
   ]
  },
  {
   "cell_type": "code",
   "execution_count": 48,
   "metadata": {},
   "outputs": [
    {
     "data": {
      "text/plain": [
       "[('carcinoma', 0.6628593802452087),\n",
       " ('melanoma', 0.5866332054138184),\n",
       " ('cancers', 0.585310161113739),\n",
       " ('carcinogenesis', 0.5620290637016296),\n",
       " ('adenocarcinoma', 0.5331070423126221),\n",
       " ('retinoblastoma', 0.48935186862945557),\n",
       " ('neuroblastoma', 0.48847079277038574),\n",
       " ('rhabdomyosarcoma', 0.4765234589576721),\n",
       " ('reconstruction', 0.47487884759902954),\n",
       " ('seminoma', 0.4725579023361206),\n",
       " ('carcinomas', 0.4713461995124817),\n",
       " ('crc', 0.4695562720298767),\n",
       " ('tumorigenesis', 0.461806058883667),\n",
       " ('rcc', 0.45305436849594116),\n",
       " ('adenocarcinomas', 0.452506422996521),\n",
       " ('malignancy', 0.4522184133529663),\n",
       " ('neoplasia', 0.44966548681259155),\n",
       " ('scc', 0.4342446029186249),\n",
       " ('bcc', 0.4334392845630646),\n",
       " ('hcc', 0.42269033193588257)]"
      ]
     },
     "execution_count": 48,
     "metadata": {},
     "output_type": "execute_result"
    }
   ],
   "source": [
    "hwgensim.most_similar('cancer', topn=20)"
   ]
  },
  {
   "cell_type": "code",
   "execution_count": 49,
   "metadata": {},
   "outputs": [
    {
     "data": {
      "text/plain": [
       "[('cytometry', 0.5638747215270996),\n",
       " ('iop', 0.5526982545852661),\n",
       " ('atmospheric', 0.5415970683097839),\n",
       " ('peak', 0.5229536294937134),\n",
       " ('platelet', 0.522757351398468),\n",
       " ('intraocular', 0.4816077649593353),\n",
       " ('cytometric', 0.47526270151138306),\n",
       " ('serum', 0.4727635383605957),\n",
       " ('inspiratory', 0.4717923402786255),\n",
       " ('cholesterol', 0.460968017578125),\n",
       " ('expiratory', 0.4605550765991211),\n",
       " ('alcohols', 0.45309218764305115),\n",
       " ('bloodstream', 0.452660471200943),\n",
       " ('equalizes', 0.4464339017868042),\n",
       " ('saliva', 0.4378783106803894),\n",
       " ('airway', 0.4305822253227234),\n",
       " ('hdl', 0.42699217796325684),\n",
       " ('air', 0.42413389682769775),\n",
       " ('barotrauma', 0.4094390273094177),\n",
       " ('urinary', 0.4082310199737549)]"
      ]
     },
     "execution_count": 49,
     "metadata": {},
     "output_type": "execute_result"
    }
   ],
   "source": [
    "hwgensim.most_similar('blood', topn=20)"
   ]
  },
  {
   "cell_type": "code",
   "execution_count": 50,
   "metadata": {},
   "outputs": [
    {
     "data": {
      "text/plain": [
       "[('resource', 0.7558938264846802),\n",
       " ('provides', 0.6462764739990234),\n",
       " ('we', 0.6300075054168701),\n",
       " ('struggle', 0.47041359543800354),\n",
       " ('informed', 0.4062565565109253),\n",
       " ('mediator', 0.4050474762916565),\n",
       " ('shepherd', 0.3973468542098999),\n",
       " ('trust', 0.39186370372772217),\n",
       " ('developers', 0.3879660367965698),\n",
       " ('finding', 0.38378357887268066),\n",
       " ('enker', 0.38300657272338867),\n",
       " ('issue', 0.3794286251068115),\n",
       " ('deal', 0.37701940536499023),\n",
       " ('culturally', 0.3763284981250763),\n",
       " ('hypothesis', 0.37335285544395447),\n",
       " ('approach', 0.3686356842517853),\n",
       " ('nutritionist', 0.36828768253326416),\n",
       " ('claim', 0.36777618527412415),\n",
       " ('experiment', 0.36184263229370117),\n",
       " ('circumstance', 0.3609424829483032)]"
      ]
     },
     "execution_count": 50,
     "metadata": {},
     "output_type": "execute_result"
    }
   ],
   "source": [
    "hwgensim.most_similar('hope', topn=20)"
   ]
  },
  {
   "cell_type": "code",
   "execution_count": null,
   "metadata": {
    "collapsed": true
   },
   "outputs": [],
   "source": []
  },
  {
   "cell_type": "code",
   "execution_count": 51,
   "metadata": {},
   "outputs": [
    {
     "data": {
      "text/plain": [
       "0.37797940534387175"
      ]
     },
     "execution_count": 51,
     "metadata": {},
     "output_type": "execute_result"
    }
   ],
   "source": [
    "hwgensim.similarity('cancer', 'tumor')"
   ]
  },
  {
   "cell_type": "code",
   "execution_count": null,
   "metadata": {
    "collapsed": true
   },
   "outputs": [],
   "source": []
  },
  {
   "cell_type": "code",
   "execution_count": 52,
   "metadata": {
    "collapsed": true
   },
   "outputs": [],
   "source": [
    "hwgensim.save(\"../models/hwgensimv1.bin\")"
   ]
  },
  {
   "cell_type": "code",
   "execution_count": null,
   "metadata": {
    "collapsed": true
   },
   "outputs": [],
   "source": []
  },
  {
   "cell_type": "code",
   "execution_count": null,
   "metadata": {
    "collapsed": true
   },
   "outputs": [],
   "source": []
  },
  {
   "cell_type": "code",
   "execution_count": null,
   "metadata": {
    "collapsed": true
   },
   "outputs": [],
   "source": []
  },
  {
   "cell_type": "code",
   "execution_count": null,
   "metadata": {
    "collapsed": true
   },
   "outputs": [],
   "source": []
  },
  {
   "cell_type": "code",
   "execution_count": null,
   "metadata": {
    "collapsed": true
   },
   "outputs": [],
   "source": []
  },
  {
   "cell_type": "code",
   "execution_count": null,
   "metadata": {
    "collapsed": true
   },
   "outputs": [],
   "source": []
  },
  {
   "cell_type": "code",
   "execution_count": null,
   "metadata": {
    "collapsed": true
   },
   "outputs": [],
   "source": []
  },
  {
   "cell_type": "code",
   "execution_count": null,
   "metadata": {
    "collapsed": true
   },
   "outputs": [],
   "source": []
  },
  {
   "cell_type": "code",
   "execution_count": null,
   "metadata": {
    "collapsed": true
   },
   "outputs": [],
   "source": []
  },
  {
   "cell_type": "code",
   "execution_count": null,
   "metadata": {
    "collapsed": true
   },
   "outputs": [],
   "source": []
  },
  {
   "cell_type": "code",
   "execution_count": null,
   "metadata": {
    "collapsed": true
   },
   "outputs": [],
   "source": []
  },
  {
   "cell_type": "code",
   "execution_count": null,
   "metadata": {
    "collapsed": true
   },
   "outputs": [],
   "source": []
  },
  {
   "cell_type": "code",
   "execution_count": null,
   "metadata": {
    "collapsed": true
   },
   "outputs": [],
   "source": []
  }
 ],
 "metadata": {
  "kernelspec": {
   "display_name": "Python 3",
   "language": "python",
   "name": "python3"
  },
  "language_info": {
   "codemirror_mode": {
    "name": "ipython",
    "version": 3
   },
   "file_extension": ".py",
   "mimetype": "text/x-python",
   "name": "python",
   "nbconvert_exporter": "python",
   "pygments_lexer": "ipython3",
   "version": "3.6.3"
  }
 },
 "nbformat": 4,
 "nbformat_minor": 2
}
