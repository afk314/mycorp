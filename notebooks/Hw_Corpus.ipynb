{
 "cells": [
  {
   "cell_type": "code",
   "execution_count": 6,
   "metadata": {
    "collapsed": true
   },
   "outputs": [],
   "source": [
    "import nltk"
   ]
  },
  {
   "cell_type": "code",
   "execution_count": 7,
   "metadata": {
    "collapsed": true
   },
   "outputs": [],
   "source": [
    "TEXT_DIR = '../output/'"
   ]
  },
  {
   "cell_type": "code",
   "execution_count": 8,
   "metadata": {
    "collapsed": true
   },
   "outputs": [],
   "source": [
    "def buildCorpus():\n",
    "    from nltk.corpus import PlaintextCorpusReader\n",
    "    return PlaintextCorpusReader(TEXT_DIR, '.*')"
   ]
  },
  {
   "cell_type": "code",
   "execution_count": 9,
   "metadata": {},
   "outputs": [
    {
     "name": "stdout",
     "output_type": "stream",
     "text": [
      "5, 12, 2 : aa100180.txt\n",
      "5, 14, 2 : aa100355.txt\n",
      "6, 14, 2 : aa100367.txt\n",
      "5, 15, 5 : aa10253.txt\n",
      "4, 12, 2 : aa102542.txt\n",
      "5, 13, 3 : aa102611.txt\n",
      "5, 13, 2 : aa102618.txt\n",
      "6, 7, 1 : aa103080.txt\n",
      "5, 15, 2 : aa103823.txt\n",
      "6, 18, 2 : aa104339spec.txt\n"
     ]
    }
   ],
   "source": [
    "corpus = buildCorpus()\n",
    "fileids = corpus.fileids()\n",
    "fileids = fileids[0:10]\n",
    "for fileid in fileids:\n",
    "    num_chars = len(corpus.raw(fileid))\n",
    "    num_words = len(corpus.words(fileid))\n",
    "    num_sents = len(corpus.sents(fileid))\n",
    "    num_vocab = len(set([w.lower() for w in corpus.words(fileid)]))\n",
    "    print(str(round(num_chars/num_words))+\", \"+str(round(num_words/num_sents))+\", \"+str(round(num_words/num_vocab))+\" : \"+fileid)\n"
   ]
  },
  {
   "cell_type": "code",
   "execution_count": 10,
   "metadata": {},
   "outputs": [
    {
     "name": "stdout",
     "output_type": "stream",
     "text": [
      "[['Polyhydramnios'], ['Topic', 'Overview'], ...]\n"
     ]
    }
   ],
   "source": [
    "print(corpus.sents())"
   ]
  },
  {
   "cell_type": "markdown",
   "metadata": {},
   "source": [
    "_Frequenc Distribution_ - counter object - mapping of a word to an integer (its count)\n",
    "\n",
    "If we count the number of keys, those are unique words - vocabulary\n",
    "Word count = sum of the values \n",
    "Lexical diversity - average number of times a word occurs X times"
   ]
  },
  {
   "cell_type": "code",
   "execution_count": 11,
   "metadata": {
    "collapsed": true
   },
   "outputs": [],
   "source": [
    "counts  = nltk.FreqDist(corpus.words())\n",
    "vocab   = len(counts.keys())\n",
    "words   = sum(counts.values())\n",
    "lexdiv  = float(words) / float(vocab)"
   ]
  },
  {
   "cell_type": "code",
   "execution_count": 12,
   "metadata": {},
   "outputs": [
    {
     "name": "stdout",
     "output_type": "stream",
     "text": [
      "Corpus has 106794 types and 21948380 tokens for a lexical diversity of 205.521\n"
     ]
    }
   ],
   "source": [
    "print(\"Corpus has %i types and %i tokens for a lexical diversity of %0.3f\" % (vocab, words, lexdiv))"
   ]
  },
  {
   "cell_type": "code",
   "execution_count": 13,
   "metadata": {},
   "outputs": [
    {
     "name": "stdout",
     "output_type": "stream",
     "text": [
      "[('.', 1076636), (',', 966123), ('the', 564391), ('of', 501815), ('and', 409712), ('to', 383115), ('a', 329102), ('*', 325308), ('or', 301946), ('-', 297601), ('in', 283901), ('your', 232140), ('with', 221600), ('is', 206533), ('you', 201427), ('(', 191190), ('for', 164579), ('that', 144098), ('may', 140001), ('not', 118853), ('be', 112717), ('have', 110056), ('are', 107210), ('can', 106880), (':', 104457), ('as', 95303), ('doctor', 87068), ('if', 80933), ('chemotherapy', 79883), (')', 78256), ('The', 77872), ('by', 72216), ('vitamin', 70223), (\"'\", 69481), ('cancer', 69312), ('on', 67368), ('an', 60234), ('it', 59771), ('A', 59591), ('people', 57548)]\n"
     ]
    }
   ],
   "source": [
    "print(counts.most_common(40))"
   ]
  },
  {
   "cell_type": "code",
   "execution_count": 14,
   "metadata": {},
   "outputs": [
    {
     "name": "stdout",
     "output_type": "stream",
     "text": [
      "['Conjoined', 'Siamese', 'Wireless', 'Ate', 'Argument', 'Trager', 'dancelike', 'Mentastics', 'Rolfing', 'Corsets', 'critics', 'CNME', 'accredit', 'CKD', 'goong', 'headstand', 'vacuumed', 'ALH', 'bradyarrhythmias', 'allspice', 'Digest', 'refillable', 'curdling', 'crosscut', 'Disbelief', 'Disappointment', 'adust', 'snip', 'Hevea', 'brasiliensis', 'Glove', 'nonlatex', 'intelligently', 'grandchild', 'Zip', 'Interpreters', 'Accredited', 'deactivated', 'Resolve', 'unsaid', 'forgets', 'storybook', 'Tetrachloroethylene', 'ANCA', 'hypoperfusion', 'governs', 'greed', 'dosha', 'Reclosure', 'achondroplastic', 'Dalmane', 'ESIs', 'interspinous', 'unwillingly', 'Sulfinpyrazone', 'Probalan', 'instrumented', 'Novolog', 'buffers', 'NovoLog', 'dieted', 'Everywhere', 'cheapest', 'achievers', 'heliox', 'intracanal', 'dams', 'Tattooing', 'Contacts', 'Monovision', 'binocular', 'crescents', 'peroneal', 'glares', 'inaction', 'thanked', 'exchanging', 'devastated', 'Nod', 'insincere', 'Unexpressed', 'Reminding', 'clergyperson', 'reminiscence', 'genuinely', 'snowstorm', 'snowed', 'enriching', 'tally', 'Categorize', 'Retell', '...,\"', 'greeting', 'Ceremonies', 'frightens', 'Longing', 'unfairness', 'RMR', 'disfigure', 'accountants', 'bono', 'annuity', 'Tough', 'byes', 'Stroking', 'Mommy', 'reminisce', 'embalming', 'cosmetology', 'graveside', 'Limousine', 'Casket', 'Acknowledgment', 'monuments', 'Cremation', 'Exaggerated', 'Halibut', 'revising', 'massaged', 'Counterforce', 'Funny', 'Epicondylitis', 'Cubital', 'Pronator', 'Urinated', 'Fantl', 'arachnophobia', 'thunder', 'astrapophobia', 'hydrophobia', 'acrophobia', 'hemophobia', 'unreality', 'ILAR', 'accredits', 'divine', 'Montezuma', 'trots', 'subsalicylates', 'festinating', 'Mindful', 'technologically', 'Electrically', 'Static', 'chordal', 'swarm', 'Plug', '!\")', 'notching', 'Unicompartmental', 'recurvatum', 'introspection', 'conversing', 'reorient', 'comas', 'myelography', 'PAYZ', 'concealers', 'Couvre', 'Toppik', 'SHOH', 'Rituals', 'Lighting', 'potpourri', 'recessions', 'Sweaty', 'EAPs', 'Puffing', 'affirm', 'stake', 'Wire', 'pantry', 'Breakfasts', 'Dinners', 'Reorganize', 'Deli', 'Danville', 'addictionology', 'Governor', 'phlebitic', 'Tolerable', 'flakier', 'Tyramines', 'marinated', 'trampoline', 'Nautilus', 'Paddle', 'canoe', 'patio', 'Competition', 'Cranberries', 'Shaky', 'subjecting', 'salpingitis', 'Blurt', 'intrude', 'butting', 'Overconcentrate', 'EULAR', 'railings', 'jarred', 'Theta', 'rebleeding', 'Hantaviruses', 'Nombre', 'Bayou', 'Sahara', 'Sluggishness', 'Crowded', 'Chloromycetin', 'bleh', 'Counters', 'Formica', 'Cabinets', 'uncrowded', 'ACYF', 'ACF', 'acf', 'ohs', 'Diapering', 'deduct', 'Convenient', 'formality', 'Advertise', 'nannies', 'Budgeting', 'subsidies', 'earnings', 'reimbursed', 'Pursuing', 'finalize', 'Divorced', 'pes', 'footedness', 'spacious', 'Candidal', 'intertrigo', 'pistoning', 'Veterinarians', 'speleologists', 'biologists', 'demons', 'Mentally', 'cocking', 'fearfully', 'Catatonic', 'neologisms', 'wallywhoop', 'Rhyming', 'clang', 'boughs', 'holly', 'folly', 'polly', 'dolly', 'hello', 'Dolly', 'perseveration', 'echopraxia', 'Stray', 'Schizotypal', 'schizotypal', 'Schizoid', 'schizoid', 'Schizophreniform', 'schizophreniform', 'symbolize', 'metaphors', 'Convey', 'butts', 'Carelessness', 'Soaked', 'Trance', 'palpitation', 'oleander', 'perniosis', 'pernio', 'windbreaker', 'reflector', 'Ensolite', 'headlamp', 'Signaling', 'Predict', 'Hemiplegia', 'hemiplegia', 'Monoplegia', 'Quadriplegia', 'Triplegia', 'nonspastic', 'athetoid', 'diplegic', 'quadriplegic', 'hemiplegic', 'Permanently', 'crawls', 'NMES', 'semisolid', 'overturned', 'placemats', 'Chokes', 'Postures', 'standers', 'propel', 'resourcefulness', 'ada', 'chitosamine', 'chonsurid', 'fraise', 'leveling', 'abrading', 'cryogenic', 'exfoliating', 'wounding', 'Criticize', 'Apologize', 'sodomy', 'noncommunicative', 'unsanitary', 'unpaid', 'substandard', '])?', 'chromophores', 'vaporizes', 'Erbium', 'Fractional', 'biomedicine', 'CoolSculpting', 'Fillers', 'rhytidectomy', 'freer', 'accrediting', 'aaaasf', 'aaahc', 'jointcommission', 'Lentigines', 'Angiomas', 'clawlike', 'osteodystrophy', 'hypermagnesemia', 'Pemphigus', 'Nondrowsy', 'Filters', 'Stores', 'Hepatorenal', 'Hepatopulmonary', 'swiftly', 'ASMA', 'Antimitochondrial', 'Alpha1', 'devise', 'detention', 'disapproval', 'disincentives', 'Barbiturate', 'Jumbled', 'Unfounded', 'Coroner', 'underdevelop', 'FEV2', 'FEV3', 'Phencyclidine', 'wack', 'supergrass', 'Consists', 'suppressors', 'unbalances', 'Wavy', 'autofluorescence', 'Femtoliter', 'femtoliter', 'quadrillionth', 'microbiologic', 'Rotaviruses', 'rotaviruses', 'Contaminating', 'pluck', 'DUI', 'Sleeps', 'Flinch', '!\"),', 'cornrows', 'kneading', 'NCBTMB', 'outstrip', 'Malfunction', 'obscures', 'extender', 'linea', 'Linea', 'antimitochondrial', 'Sludge', 'bilirubinate', 'microlithiasis', 'pseudolithiasis', 'Peritoneovenous', 'Deceased', '____________________________________', 'overmedication', 'assorted', 'Tweezers', 'Eyedropper', 'Scissors', 'aspirator', 'iontophoresis', 'AWN', 'glance', 'overcook', 'Slump', 'pendants', 'charms', 'Mmol', 'Kg', 'idealize', 'Theater', 'Forbid', 'sportsmanship', 'tournaments', 'Swap', 'poaching', 'blackened', 'braised', 'catheterizationMakes', 'angiogramMakes', 'Empathy', 'Remarriage', 'Overcrowded', 'sworn', 'broker', 'medicinesThese', 'CorticosteroidsThese', 'relieversThese', 'antidepressantsThese', 'Enid', 'poh', 'Relying', 'stairwells', 'Clorox', 'orthopaedics', 'Marmor', 'fib', 'Nodosum', 'nuss', 'vanillin', 'Binary', 'Cisgender', 'GLBT', 'queer', 'Queer', 'reclaimed', 'genderqueer', 'nonbinary', 'nonconforming', 'Transsexual', 'molesters', 'Leather', 'canvas', 'Handy', 'misfires', 'Shocks', 'ruhl', 'reprogrammed', 'weightless', 'CYP2C19', 'Beginner', 'alerted', 'racewalk', 'Pedometers', '___bpm', '5K', 'SuperTracker', 'hunt', 'reload', 'Width', 'Skinless', 'Turbinado', 'invert', 'preventcolon', 'duvet', 'bedspread', 'Housecleaning', 'broomstick', 'Unloading', 'homeowners', 'takeout', 'Barbecue', 'chops', 'enchiladas', 'tilapia', 'ghanoush', 'dolmas', 'Creole', 'Dunk', 'dunk', 'LEDs', 'Photosensitizers', 'buffed', 'sandblaster', 'abs', 'slacking', 'dolce', 'vita', 'begged', 'landscaper', 'omelette', 'chiles', 'Drizzle', 'burgers', 'breading', 'yer', 'chitterlings', 'chitlins', 'Pseudocyst', 'fluh', 'todecide', 'aqua', 'aquatics', 'breezes', 'grit', 'teaspoonful', 'Silk', 'Vagisil', 'Moisturizer', 'Maxilube', 'Surgilube', 'Sort', 'lettered', 'mosquitos', 'Buthe', 'throh', 'growinto', 'ofconditions', 'waive', 'Backup', 'nurr', 'snipped', 'Outs', 'comedogenic', 'Motions', 'ama', 'assn', 'healthfinder', 'facs', 'Chips', 'sourdough', 'ciabatta', 'tiers', 'ncqa', 'Federally', 'findahealthcenter', 'search_hcc', 'insurekidsnow', 'rwjf', 'coverageforall', 'SPYOO', 'tum', 'pleased', 'Resilient', 'uridyltransferase', 'GALT', 'funniest', 'comedy', 'seer', 'statfacts', 'littler', 'NAWZ', 'hyposmia', 'PAWZ', 'organdonor', 'stateMap', 'Corneas', 'OPO', 'Priority', 'celebrity', 'Procurement', 'Clumsiness', 'Radioactivity', 'ACTIVE', 'INGREDIENT', 'USES', 'WARNINGS', 'DIRECTIONS', 'INFORMATION', 'INACTIVE', 'INGREDIENTS', 'Sophie', 'Auditions', 'Cheating', 'rebelling', 'maturely', 'obsess', '_____________________________', '_______________________________________________', '_____________________________________________________', '________________________________________________________', '_______________________________________________________________', 'misread', 'dispensary', 'prosecute', 'Uniformed', 'Jacobi', 'shareholder', 'iHope', 'kinking', 'Medicis', 'Galderma', 'Intendis', 'Imogene', 'Cooperstown', 'MBBS', 'Honors', 'Wessex', 'Avaxia', 'subscriber', 'Charges', 'negotiable', 'Account', 'valvulotomy', 'churns', 'Altum', 'Civic', 'Kleinert', 'Louisville', 'Biomimetics', 'dart', 'Hons', 'Surrey', 'Guildford', 'Honorary', 'Devon', 'Perth', 'handyman', 'longtermcarelink', 'Wills', 'cremated', 'Calcaneal', 'apophysitis', 'COR', 'VRA', 'Audiometry', 'appreciates', 'cyber', 'Telemundo', 'Newsweek', 'Altos', 'motherhood', 'Manitoba', 'Winnipeg', 'Lighter', 'Crescendo', 'Bioscience', 'Biogen', 'Idec', 'MedImmune', 'Reducer', 'Meltaways', 'tweak', 'Widen', 'Divert', 'Shapes', 'succedaneum', 'Caput', 'Insipidus', 'FREK', 'nonfluent', 'Clara', 'stoic', 'incredible', 'cherish', 'Evelyn', 'causalgia', 'Sudeck', 'Looping', 'untangles', 'Enterococcus', 'Succeed', '0330', 'Guidant', 'Thuy', 'Barotrauma', 'Divers', 'decompresses', 'Narcosis', 'Staggering', 'dove', 'Saltine', 'Gasp', 'gasped', 'Breaths', 'dorms', 'awarerx', 'provincial', 'encrypt', 'Criminals', 'expertly', 'Latch', 'Collards', 'Coleslaw', 'Okra', 'butterhead', 'Marinara', 'iceberg', 'Kiwi', 'Pistachios', 'recluses', 'skulls', 'Stoppers', 'Tachypnea', 'tack', 'Epidemiologist', 'zoonotic', 'vectorborne', 'Reacts', 'FACES', 'savoring', 'Youcan', 'bpmfootnote', 'seedy', 'Explosive', 'childstarts', 'Sternotomy', 'overpaying', 'Jot', 'Pair', 'denials', 'Pilaris', 'pilaris', 'LactiCare', 'Scholastica', 'Duluth', 'thinnest', 'reinserts', 'Onscreen', 'ceramide', 'Atopiclair', 'MimyX', 'undoes', 'Helped', 'charities', 'investors', 'stricter', 'charger', 'Pajamas', 'HIP', 'revolve', 'orderlies', 'Oops', 'reconciliation', 'tours', 'returnsblood', 'FFP', 'Rockstar', 'Accelerade', 'sweated', 'PGE', 'Overriding', 'folders', 'PHRs', 'PHR', 'EHR', 'makeover', 'amphibian', 'Zoonosis', 'barnyard', 'creeks', 'puppies', 'healthypets', 'assassin', 'blonde', 'savers', 'coolest', 'Meets', 'SNFs', 'SCUs', 'goodbyes', 'rBGH', 'rBST', 'growers', 'CSA', 'Overlays', 'Cushions', 'clonus', 'ams', 'Trypanosoma', 'cruzi', 'Axons', 'Neuroconstructive', 'transplanting', 'ensheathing', 'Schwann', 'NeuroControl', 'Freehand', 'Locomotion', 'isgoing', 'dayto', '911anytime', 'Opened', 'sternums', 'PRY', 'piz', 'Inflate', 'sunlamp', 'bison', 'moose', 'boar', 'caribou', 'Roundworms', 'Choriomeningitis', 'Humus', 'Olives', 'Pineapple', 'Sherbet', 'Tortilla', 'Clams', 'haddock', 'perch', 'Nectarine', 'cashew', 'Parsnip', 'Prunes', 'seedless', 'Zucchini', 'reopened', 'Resisting', 'Temptation', 'Colonization', 'CRE', 'pretense', 'caringbridge', 'Lotsa', 'lotsahelpinghands', 'thuh', 'Busting', 'Fib', 'Scattered', 'detaching', 'suctions', 'Mindless', 'celebrates', 'andwhen', 'downstairs', 'lookup', 'Illusions', 'fasciotomy', 'puckered', 'HISS', 'Extras', 'Premiums', '25th', 'railroad', 'socialsecurity', 'medicareonly', 'shiptalk', 'slant', 'Powering', 'shrivel', 'Pinkish', 'sanitize', 'endless', 'Cautery', 'KUSS', 'pid', 'ty', 'zing', 'Omphalocele', 'Gastroschisis', 'ahm', 'FAL', 'TRAWS', 'kih', 'Tracheoesophageal', 'TRAYK', 'FIST', 'neuropsychologist', 'mees', 'noss', 'Leukomalacia', 'RING', 'squeaking', '22ºC', 'sideof', 'fingersbelow', 'yourhand', 'yourbaby', 'Waituntil', 'yourbreast', 'thebaby', 'orhear', '__________________________________', 'Checked', 'Manager', 'Brookings', 'somecases', 'thesame', 'stoolsl', 'BRAIN', 'Intuition', 'nourishes', 'dads', 'rocker', 'shawl', '_______________________', 'Slows', 'Bigger', 'thrash', 'Scary', 'lasering', 'incubators', 'overstimulate', 'pondering', 'sacraments', 'Inspires', 'rul', 'Drawsheet', 'chux', 'byanother', 'Skåne', 'Honningsvåg', 'screwdrivers', 'Gingivostomatitis', 'voh', 'stoh', 'Hallways', 'Collectors', 'hoards', 'DaVita', 'HealthSciences', 'OHSU', 'CarePlus', 'EMMI', 'Abbvie', 'Parnassus', 'Heights', 'Siemans', 'Elect', 'arame', 'dulse', 'wakame', 'cements', 'abbreviation', '40º', 'Caudal', 'artificialaortic', 'certainprocedures', 'Yeshiva', 'Deaconess', 'Phreesia', 'Meharry', 'Reviewer', 'PCORI', 'NIDDK', 'stipend', 'Sacrocolpopexy', 'Sackler', 'HealthNet', 'rejoins', 'vaping', 'rebalancing', '60mL', 'Revisit', 'GOON', 'Echogenic', 'Ventricles', 'pyelectasis', 'Rebuild', 'Deamidated', 'DGP', 'SSB', 'Scl', 'cardiolipin', 'effectsfootnote', 'Neurobehavioral', 'Appeal', 'honorarium', 'Spokane', 'Gillings', 'Unsweetened', 'Toothpaste', 'Candies', 'syntheses', '43817', 'Threads', 'Inflates', 'GLOH', 'collision', 'colliding', 'bythe', 'findthat', 'downsize', 'coronavirus_infections', 'mers', 'eri', 'ire', 'Cerebri', 'SAIR', 'bry', 'endoclip', 'Anchored', 'abutment', 'Affair', 'gladly']\n"
     ]
    }
   ],
   "source": [
    "print(counts.hapaxes()[0:1000])"
   ]
  },
  {
   "cell_type": "code",
   "execution_count": 15,
   "metadata": {},
   "outputs": [
    {
     "data": {
      "image/png": "[encoded data removed]",
      "text/plain": [
       "<matplotlib.figure.Figure at 0x7f4917764fd0>"
      ]
     },
     "metadata": {},
     "output_type": "display_data"
    }
   ],
   "source": [
    "counts.plot(50, cumulative=False)"
   ]
  },
  {
   "cell_type": "code",
   "execution_count": 16,
   "metadata": {},
   "outputs": [
    {
     "data": {
      "image/png": "[encoded data removed]",
      "text/plain": [
       "<matplotlib.figure.Figure at 0x7f4916db2be0>"
      ]
     },
     "metadata": {},
     "output_type": "display_data"
    }
   ],
   "source": [
    "# By setting cumulative to True, we can visualize the cumulative counts of the _n_ most common words.\n",
    "counts.plot(50, cumulative=True)\n"
   ]
  },
  {
   "cell_type": "code",
   "execution_count": 19,
   "metadata": {},
   "outputs": [],
   "source": [
    "from gensim.models import Word2Vec\n",
    "hwgensim = Word2Vec(corpus.sents())"
   ]
  },
  {
   "cell_type": "code",
   "execution_count": 23,
   "metadata": {},
   "outputs": [
    {
     "data": {
      "text/plain": [
       "[('carcinoma', 0.6815191507339478),\n",
       " ('cancers', 0.641339898109436),\n",
       " ('melanoma', 0.6161998510360718),\n",
       " ('carcinogenesis', 0.6156816482543945),\n",
       " ('adenocarcinomas', 0.5889794826507568),\n",
       " ('adenocarcinoma', 0.5833908319473267),\n",
       " ('CRC', 0.5158604383468628),\n",
       " ('carcinomas', 0.5116673707962036),\n",
       " ('SCC', 0.5014102458953857),\n",
       " ('enlargement', 0.4903922379016876),\n",
       " ('reconstruction', 0.48922961950302124),\n",
       " ('BCC', 0.4822159707546234),\n",
       " ('polyps', 0.47860169410705566),\n",
       " ('adenomas', 0.4668273329734802),\n",
       " ('rhabdomyosarcoma', 0.46415552496910095),\n",
       " ('malignancies', 0.4637780487537384),\n",
       " ('Cancer', 0.454182505607605),\n",
       " ('tumor', 0.45324477553367615),\n",
       " ('neoplasia', 0.44525402784347534),\n",
       " ('fissures', 0.4449499547481537)]"
      ]
     },
     "execution_count": 23,
     "metadata": {},
     "output_type": "execute_result"
    }
   ],
   "source": [
    "hwgensim.most_similar('cancer', topn=20)"
   ]
  },
  {
   "cell_type": "code",
   "execution_count": 24,
   "metadata": {},
   "outputs": [
    {
     "data": {
      "text/plain": [
       "[('inspiratory', 0.6009636521339417),\n",
       " ('Blood', 0.5993154048919678),\n",
       " ('cytometry', 0.5905686616897583),\n",
       " ('peak', 0.5477820634841919),\n",
       " ('busting', 0.5413093566894531),\n",
       " ('atmospheric', 0.5278486013412476),\n",
       " ('expiratory', 0.5223292708396912),\n",
       " ('intraocular', 0.5151267051696777),\n",
       " ('sperm', 0.5065816640853882),\n",
       " ('air', 0.5034570693969727),\n",
       " ('platelet', 0.4937816560268402),\n",
       " ('airway', 0.4885348677635193),\n",
       " ('lungs', 0.4849148392677307),\n",
       " ('bloodstream', 0.4741634726524353),\n",
       " ('aplasia', 0.4702532887458801),\n",
       " ('IOP', 0.4674679934978485),\n",
       " ('cytometric', 0.4603503346443176),\n",
       " ('accumulate', 0.44844192266464233),\n",
       " ('serum', 0.4365060329437256),\n",
       " ('diastolic', 0.4332091212272644)]"
      ]
     },
     "execution_count": 24,
     "metadata": {},
     "output_type": "execute_result"
    }
   ],
   "source": [
    "hwgensim.most_similar('blood', topn=20)"
   ]
  },
  {
   "cell_type": "code",
   "execution_count": 34,
   "metadata": {},
   "outputs": [
    {
     "data": {
      "text/plain": [
       "[('We', 0.8908767700195312),\n",
       " ('resource', 0.7466868758201599),\n",
       " ('provides', 0.5922198295593262),\n",
       " ('accomplish', 0.5047870874404907),\n",
       " ('disclose', 0.5008730888366699),\n",
       " ('informed', 0.4688451886177063),\n",
       " ('booklet', 0.4472050070762634),\n",
       " ('struggle', 0.434073805809021),\n",
       " ('trust', 0.43225735425949097),\n",
       " ('claim', 0.4314434826374054),\n",
       " ('experiment', 0.4257565438747406),\n",
       " ('verify', 0.4245222806930542),\n",
       " ('citation', 0.42093926668167114),\n",
       " ('address', 0.4068673253059387),\n",
       " ('remedy', 0.4022448658943176),\n",
       " ('approach', 0.3983720541000366),\n",
       " ('deal', 0.3965657651424408),\n",
       " ('nutritionist', 0.3965078294277191),\n",
       " ('strategy', 0.395305335521698),\n",
       " ('appreciate', 0.3943217992782593)]"
      ]
     },
     "execution_count": 34,
     "metadata": {},
     "output_type": "execute_result"
    }
   ],
   "source": [
    "hwgensim.most_similar('hope', topn=20)"
   ]
  },
  {
   "cell_type": "code",
   "execution_count": null,
   "metadata": {
    "collapsed": true
   },
   "outputs": [],
   "source": []
  },
  {
   "cell_type": "code",
   "execution_count": 35,
   "metadata": {},
   "outputs": [
    {
     "data": {
      "text/plain": [
       "0.45324480116620092"
      ]
     },
     "execution_count": 35,
     "metadata": {},
     "output_type": "execute_result"
    }
   ],
   "source": [
    "hwgensim.similarity('cancer', 'tumor')"
   ]
  },
  {
   "cell_type": "code",
   "execution_count": null,
   "metadata": {
    "collapsed": true
   },
   "outputs": [],
   "source": []
  },
  {
   "cell_type": "code",
   "execution_count": 33,
   "metadata": {},
   "outputs": [],
   "source": [
    "hwgensim.save(\"../models/hwgensimv1.bin\")"
   ]
  },
  {
   "cell_type": "code",
   "execution_count": null,
   "metadata": {
    "collapsed": true
   },
   "outputs": [],
   "source": []
  },
  {
   "cell_type": "code",
   "execution_count": null,
   "metadata": {
    "collapsed": true
   },
   "outputs": [],
   "source": []
  },
  {
   "cell_type": "code",
   "execution_count": null,
   "metadata": {
    "collapsed": true
   },
   "outputs": [],
   "source": []
  },
  {
   "cell_type": "code",
   "execution_count": null,
   "metadata": {
    "collapsed": true
   },
   "outputs": [],
   "source": []
  },
  {
   "cell_type": "code",
   "execution_count": null,
   "metadata": {
    "collapsed": true
   },
   "outputs": [],
   "source": []
  },
  {
   "cell_type": "code",
   "execution_count": null,
   "metadata": {
    "collapsed": true
   },
   "outputs": [],
   "source": []
  },
  {
   "cell_type": "code",
   "execution_count": null,
   "metadata": {
    "collapsed": true
   },
   "outputs": [],
   "source": []
  },
  {
   "cell_type": "code",
   "execution_count": null,
   "metadata": {
    "collapsed": true
   },
   "outputs": [],
   "source": []
  },
  {
   "cell_type": "code",
   "execution_count": null,
   "metadata": {
    "collapsed": true
   },
   "outputs": [],
   "source": []
  },
  {
   "cell_type": "code",
   "execution_count": null,
   "metadata": {
    "collapsed": true
   },
   "outputs": [],
   "source": []
  },
  {
   "cell_type": "code",
   "execution_count": null,
   "metadata": {
    "collapsed": true
   },
   "outputs": [],
   "source": []
  },
  {
   "cell_type": "code",
   "execution_count": null,
   "metadata": {
    "collapsed": true
   },
   "outputs": [],
   "source": []
  },
  {
   "cell_type": "code",
   "execution_count": null,
   "metadata": {
    "collapsed": true
   },
   "outputs": [],
   "source": []
  }
 ],
 "metadata": {
  "kernelspec": {
   "display_name": "Python 3",
   "language": "python",
   "name": "python3"
  },
  "language_info": {
   "codemirror_mode": {
    "name": "ipython",
    "version": 3
   },
   "file_extension": ".py",
   "mimetype": "text/x-python",
   "name": "python",
   "nbconvert_exporter": "python",
   "pygments_lexer": "ipython3",
   "version": "3.6.3"
  }
 },
 "nbformat": 4,
 "nbformat_minor": 2
}
