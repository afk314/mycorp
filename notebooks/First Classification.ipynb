{
 "cells": [
  {
   "cell_type": "code",
   "execution_count": 47,
   "metadata": {},
   "outputs": [],
   "source": [
    "import numpy as np\n",
    "import pandas as pd\n"
   ]
  },
  {
   "cell_type": "code",
   "execution_count": 77,
   "metadata": {},
   "outputs": [],
   "source": [
    "jsonl = '/usr/local/tmp/out.jsonl'\n",
    "df_orig = ''\n",
    "with open(jsonl,\"r\") as json_file:\n",
    "    data=json_file.read()\n",
    "    df_orig = pd.read_json(data, lines=True)\n",
    "df = df_orig.loc[df_orig['categories'] > .01]\n",
    "test = df_orig.loc[df_orig['categories'] < .01]"
   ]
  },
  {
   "cell_type": "code",
   "execution_count": 78,
   "metadata": {},
   "outputs": [],
   "source": [
    "X_train=df.text"
   ]
  },
  {
   "cell_type": "code",
   "execution_count": 79,
   "metadata": {},
   "outputs": [
    {
     "data": {
      "text/plain": [
       "(3749, 17389)"
      ]
     },
     "execution_count": 79,
     "metadata": {},
     "output_type": "execute_result"
    }
   ],
   "source": [
    "from sklearn.feature_extraction.text import CountVectorizer\n",
    "count_vect = CountVectorizer()\n",
    "X_train_counts = count_vect.fit_transform(df.text)\n",
    "X_train_counts.shape\n"
   ]
  },
  {
   "cell_type": "code",
   "execution_count": 80,
   "metadata": {},
   "outputs": [
    {
     "data": {
      "text/plain": [
       "(3749, 17389)"
      ]
     },
     "execution_count": 80,
     "metadata": {},
     "output_type": "execute_result"
    }
   ],
   "source": [
    "tfidf_transformer = TfidfTransformer()\n",
    "X_train_tfidf = tfidf_transformer.fit_transform(X_train_counts)\n",
    "X_train_tfidf.shape"
   ]
  },
  {
   "cell_type": "code",
   "execution_count": 81,
   "metadata": {},
   "outputs": [
    {
     "data": {
      "text/plain": [
       "(3749, 17389)"
      ]
     },
     "execution_count": 81,
     "metadata": {},
     "output_type": "execute_result"
    }
   ],
   "source": [
    "from sklearn.feature_extraction.text import TfidfTransformer\n",
    "tf_transformer = TfidfTransformer(use_idf=False).fit(X_train_counts)\n",
    "X_train_tf = tf_transformer.transform(X_train_counts)\n",
    "X_train_tf.shape"
   ]
  },
  {
   "cell_type": "code",
   "execution_count": 82,
   "metadata": {},
   "outputs": [],
   "source": [
    "from sklearn.naive_bayes import MultinomialNB\n",
    "clf = MultinomialNB().fit(X_train_tfidf, df.categories)"
   ]
  },
  {
   "cell_type": "code",
   "execution_count": 83,
   "metadata": {},
   "outputs": [
    {
     "name": "stdout",
     "output_type": "stream",
     "text": [
      "'\\n    learning about biting in children parenting: biting | pediatric: general info  is biting normal?  most infants and young children bite once in a while. usually a bite is harmless and may not even leave a mark. most children stop biting on their own. biting in young children usually does not lead to behavior problems at a later age. but biting after age 3 may be a sign that a child has problems with self-control or expressing feelings. biting occurs in a variety of situations, most often when many children are together, such as at a day care center. why do children bite?  children bite for different reasons, depending on their age. between 15 and 36 months of age, children may bite other people when they are frustrated or want power or control over another person. young children may bite out of frustration because they cannot yet put their emotions into words. after age 3, children usually bite when they feel powerless or scared, such as when they are losing a fight or think they are going to be hurt by another person. children older than 3 who often bite other people need to be seen by a doctor. biting that happens past age 3 or occurs frequently at any age may need treatment. how can you respond when a child bites?  when one child bites another, first take care of the child who was bitten. * move the child away from the situation. * comfort the child, and stay within sight of the child who bit him or her. * help the child express his or her feelings about being bitten. for example, say, \"it\\'s okay to cry. being bitten hurts.\" do not say, \"johnny was bad to bite you.\" * examine the area where the child was bitten. put an ice pack on the bite if needed. in rare cases, a bite from a child will break the skin and bleed. if this happens, call your doctor. * let your child know that biting is not acceptable. react to the biting incident in a dramatic way (but without violence or aggression). if you were the one bitten, act like the pain is worse than it is, but do not react in anger. * use a firm voice and stern facial expression. say, \"no! we don\\'t bite.\" * suggest ways for your child to use words to express feelings. * try using \"time-out\" to stop aggressive behavior. time-out means that you remove your child from a stressful situation for a short period of time. it works best when your child is old enough to understand. this usually begins around three years of age. * when a child bites, do not: bite back to show how it feels to be bitten. wash out the child\\'s mouth with soap. pinch, slap, or use other physical punishment. * bite back to show how it feels to be bitten. * wash out the child\\'s mouth with soap. * pinch, slap, or use other physical punishment. how can you help prevent biting?  most biting can be prevented with proper supervision that includes helping children express their feelings appropriately. * praise your child for behavior you want to encourage, like sharing or being kind and patient. for example, say, \"great job! you used your words when you were angry.\" * set a good example by showing your child how to deal calmly with everyday frustrations. avoid angry outbursts and other forms of aggression. * learn to recognize the signs that your child is about to bite. you may be able to stop biting before it happens by distracting or redirecting. * distract a child who is becoming frustrated with other types of play, such as dancing or working on a puzzle. * help your child put feelings into words, like saying, \"you must feel angry with bobby for taking your toy.\" * teach your child empathy, which is understanding and being sensitive to the feelings of others.\\n    ' => 1523.0\n"
     ]
    }
   ],
   "source": [
    "docs_new = [\n",
    "    \"\"\"\n",
    "    learning about biting in children parenting: biting | pediatric: general info  is biting normal?  most infants and young children bite once in a while. usually a bite is harmless and may not even leave a mark. most children stop biting on their own. biting in young children usually does not lead to behavior problems at a later age. but biting after age 3 may be a sign that a child has problems with self-control or expressing feelings. biting occurs in a variety of situations, most often when many children are together, such as at a day care center. why do children bite?  children bite for different reasons, depending on their age. between 15 and 36 months of age, children may bite other people when they are frustrated or want power or control over another person. young children may bite out of frustration because they cannot yet put their emotions into words. after age 3, children usually bite when they feel powerless or scared, such as when they are losing a fight or think they are going to be hurt by another person. children older than 3 who often bite other people need to be seen by a doctor. biting that happens past age 3 or occurs frequently at any age may need treatment. how can you respond when a child bites?  when one child bites another, first take care of the child who was bitten. * move the child away from the situation. * comfort the child, and stay within sight of the child who bit him or her. * help the child express his or her feelings about being bitten. for example, say, \\\"it's okay to cry. being bitten hurts.\\\" do not say, \\\"johnny was bad to bite you.\\\" * examine the area where the child was bitten. put an ice pack on the bite if needed. in rare cases, a bite from a child will break the skin and bleed. if this happens, call your doctor. * let your child know that biting is not acceptable. react to the biting incident in a dramatic way (but without violence or aggression). if you were the one bitten, act like the pain is worse than it is, but do not react in anger. * use a firm voice and stern facial expression. say, \\\"no! we don't bite.\\\" * suggest ways for your child to use words to express feelings. * try using \\\"time-out\\\" to stop aggressive behavior. time-out means that you remove your child from a stressful situation for a short period of time. it works best when your child is old enough to understand. this usually begins around three years of age. * when a child bites, do not: bite back to show how it feels to be bitten. wash out the child's mouth with soap. pinch, slap, or use other physical punishment. * bite back to show how it feels to be bitten. * wash out the child's mouth with soap. * pinch, slap, or use other physical punishment. how can you help prevent biting?  most biting can be prevented with proper supervision that includes helping children express their feelings appropriately. * praise your child for behavior you want to encourage, like sharing or being kind and patient. for example, say, \\\"great job! you used your words when you were angry.\\\" * set a good example by showing your child how to deal calmly with everyday frustrations. avoid angry outbursts and other forms of aggression. * learn to recognize the signs that your child is about to bite. you may be able to stop biting before it happens by distracting or redirecting. * distract a child who is becoming frustrated with other types of play, such as dancing or working on a puzzle. * help your child put feelings into words, like saying, \\\"you must feel angry with bobby for taking your toy.\\\" * teach your child empathy, which is understanding and being sensitive to the feelings of others.\n",
    "    \"\"\"]\n",
    "X_new_counts = count_vect.transform(docs_new)\n",
    "X_new_tfidf = tfidf_transformer.transform(X_new_counts)\n",
    "\n",
    "predicted = clf.predict(X_new_tfidf)\n",
    "\n",
    "for doc, category in zip(docs_new, predicted):\n",
    "    print('%r => %s' % (doc, category))"
   ]
  },
  {
   "cell_type": "code",
   "execution_count": null,
   "metadata": {
    "collapsed": true
   },
   "outputs": [],
   "source": []
  }
 ],
 "metadata": {
  "kernelspec": {
   "display_name": "Python 3",
   "language": "python",
   "name": "python3"
  },
  "language_info": {
   "codemirror_mode": {
    "name": "ipython",
    "version": 3
   },
   "file_extension": ".py",
   "mimetype": "text/x-python",
   "name": "python",
   "nbconvert_exporter": "python",
   "pygments_lexer": "ipython3",
   "version": "3.6.3"
  }
 },
 "nbformat": 4,
 "nbformat_minor": 2
}
