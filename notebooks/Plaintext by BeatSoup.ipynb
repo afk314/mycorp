{
 "cells": [
  {
   "cell_type": "markdown",
   "metadata": {},
   "source": [
    "## Generate plaintext versions of hwxml\n",
    "\n",
    "Take a dir structure full of legacy XML files and build a flat dir of hwid.txt files with all XML stripped.\n",
    "\n",
    "**Note** set the env variable HW_XML_MCS to the dir containing the XML files"
   ]
  },
  {
   "cell_type": "code",
   "execution_count": null,
   "metadata": {
    "collapsed": true
   },
   "outputs": [],
   "source": [
    "import os, nltk, html5lib\n",
    "from xml.etree import ElementTree as etree\n",
    "from lxml.html import tostring, html5parser, fromstring\n",
    "import lxml.etree as ET\n",
    "from legacy_to_plaintext import to_plaintext"
   ]
  },
  {
   "cell_type": "code",
   "execution_count": null,
   "metadata": {
    "collapsed": true
   },
   "outputs": [],
   "source": [
    "TEXT_DIR = 'output/'\n",
    "IN_PATH = str(os.environ[\"HW_XML_MCS\"])"
   ]
  },
  {
   "cell_type": "code",
   "execution_count": null,
   "metadata": {
    "collapsed": true
   },
   "outputs": [],
   "source": [
    "# You may or may not want to delete the output from a previous run\n",
    "\n",
    "import os, shutil\n",
    "for the_file in os.listdir(TEXT_DIR):\n",
    "    file_path = os.path.join(TEXT_DIR, the_file)\n",
    "    try:\n",
    "        if os.path.isfile(file_path):\n",
    "            os.unlink(file_path)\n",
    "    except Exception as e:\n",
    "        print(e)"
   ]
  },
  {
   "cell_type": "code",
   "execution_count": null,
   "metadata": {
    "collapsed": true
   },
   "outputs": [],
   "source": [
    "def getXmlFiles(path):\n",
    "    result = [os.path.join(dp, f) for dp, dn, filenames in os.walk(path) for f in filenames if os.path.splitext(f)[1] == '.xml']\n",
    "    return result"
   ]
  },
  {
   "cell_type": "code",
   "execution_count": null,
   "metadata": {
    "collapsed": true
   },
   "outputs": [],
   "source": [
    "def simplifyXml(file):\n",
    "    output = to_plaintext(file)\n",
    "    \n",
    "    filename = os.path.basename(file);\n",
    "    name,ext = filename.split('.')\n",
    "    new_name = name+'.txt'    \n",
    "    with open(TEXT_DIR + new_name, \"w\") as text_file:\n",
    "        text_file.write(output)"
   ]
  },
  {
   "cell_type": "code",
   "execution_count": null,
   "metadata": {
    "collapsed": true
   },
   "outputs": [],
   "source": [
    "all_files = getXmlFiles(IN_PATH)"
   ]
  },
  {
   "cell_type": "code",
   "execution_count": null,
   "metadata": {},
   "outputs": [],
   "source": [
    "for file in all_files:\n",
    "    simplifyXml(file)"
   ]
  },
  {
   "cell_type": "code",
   "execution_count": null,
   "metadata": {
    "collapsed": true
   },
   "outputs": [],
   "source": []
  },
  {
   "cell_type": "code",
   "execution_count": null,
   "metadata": {
    "collapsed": true
   },
   "outputs": [],
   "source": []
  }
 ],
 "metadata": {
  "kernelspec": {
   "display_name": "Python 3",
   "language": "python",
   "name": "python3"
  },
  "language_info": {
   "codemirror_mode": {
    "name": "ipython",
    "version": 3
   },
   "file_extension": ".py",
   "mimetype": "text/x-python",
   "name": "python",
   "nbconvert_exporter": "python",
   "pygments_lexer": "ipython3",
   "version": "3.6.3"
  }
 },
 "nbformat": 4,
 "nbformat_minor": 2
}
