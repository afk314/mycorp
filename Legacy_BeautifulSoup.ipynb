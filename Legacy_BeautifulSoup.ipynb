{
 "cells": [
  {
   "cell_type": "code",
   "execution_count": 1,
   "metadata": {
    "collapsed": true
   },
   "outputs": [],
   "source": [
    "from bs4 import BeautifulSoup, SoupStrainer, Comment\n",
    "import urllib.request\n"
   ]
  },
  {
   "cell_type": "code",
   "execution_count": 19,
   "metadata": {
    "collapsed": true
   },
   "outputs": [],
   "source": [
    "url = \"file:///Users/akimball/dev/content/mcs/11.5/xml/abq7/489/abq7489.xml\"\n",
    "page = urllib.request.urlopen(url)\n",
    "soup = BeautifulSoup(page.read(), \"lxml\", from_encoding='utf-8')\n",
    "for comments in soup.findAll(text=lambda text:isinstance(text, Comment)):\n",
    "    comments.extract()"
   ]
  },
  {
   "cell_type": "code",
   "execution_count": 20,
   "metadata": {
    "collapsed": true
   },
   "outputs": [],
   "source": [
    "data = str(soup.find_all('div', attrs={'id' : \"results\"}))\n",
    "consumer_title = soup.find('meta-data.title', attrs={'audience' : \"Consumer\"}).text\n",
    "clinical_title = soup.find('meta-data.title', attrs={'audience' : \"Clinical\"}).text"
   ]
  },
  {
   "cell_type": "code",
   "execution_count": 21,
   "metadata": {
    "collapsed": true
   },
   "outputs": [],
   "source": [
    "gotowebs=  soup.find_all('div', attrs={'class': 'HwGoToWeb'})\n",
    "for gotoweb in gotowebs:\n",
    "    gotoweb.decompose()"
   ]
  },
  {
   "cell_type": "code",
   "execution_count": 35,
   "metadata": {},
   "outputs": [
    {
     "name": "stdout",
     "output_type": "stream",
     "text": [
      "Your Care Instructions\n",
      "\n",
      "Your child's prosthetic hip is a large and fairly stable joint. Usually it takes a hard fall, a car crash, or something else of great force to make the thighbone slip out of its socket (dislocate). But since your child has had hip replacement surgery, his or her hip can more easily slip out of position. This is more common during the first few months after the surgery.\n",
      "\n",
      "The doctor will put your child's hip back in place. What happens next depends on the age of your child. An older child may need to use a walking aid or a hip brace for several weeks or months while the hip heals. A younger child may be put in a spica cast. This will keep the hip from moving.\n",
      "\n",
      "Exercise and physical therapy can help your child's hip get strong and move normally again. You can also help your child get better with rest and home care.\n",
      "\n",
      "Your child may have had a sedative to help him or her relax. Your child may be unsteady after getting a sedative. It takes time (sometimes a few hours) for the medicine's effects to wear off. Common side effects of sedation include nausea, vomiting, and feeling sleepy or cranky.\n",
      "\n",
      "The doctor has checked your child carefully, but problems can develop later. If you notice any problems or new symptoms, get medical treatment right away.\n",
      "\n",
      "Follow-up care is a key part of your child's treatment and safety. Be sure to make and go to all appointments, and call your doctor if your child is having problems. It's also a good idea to know your child's test results and keep a list of the medicines your child takes.\n",
      "\n",
      "How can you care for your child at home?\n",
      "\n",
      "* If your doctor put your child in a spica cast or brace, make sure to follow all instructions your doctor gives you.\n",
      "* Be sure your child follows the safety precautions your doctor gives you to keep the hip centered in its socket during the healing period. Have your child keep knees and toes pointed forward when he or she sits, walks, or stands. Your child should not sit with his or her legs crossed. Your child should not bend at the waist more than 90º. Be careful when your child leans or moves in bed. Keep his or her legs as straight ahead as possible.\n",
      "* Have your child keep knees and toes pointed forward when he or she sits, walks, or stands.\n",
      "* Your child should not sit with his or her legs crossed.\n",
      "* Your child should not bend at the waist more than 90º. Be careful when your child leans or moves in bed. Keep his or her legs as straight ahead as possible.\n",
      "* Have your child rest the hip as much as possible. He or she will need to change activities to avoid movements that irritate the hip.\n",
      "* Be safe with medicines. Read and follow all instructions on the label. If the doctor gave your child a prescription medicine for pain, give it as prescribed. If your child is not taking a prescription pain medicine, ask your doctor if your child can take an over-the-counter medicine.\n",
      "* If the doctor gave your child a prescription medicine for pain, give it as prescribed.\n",
      "* If your child is not taking a prescription pain medicine, ask your doctor if your child can take an over-the-counter medicine.\n",
      "* If your child's hip is swollen, put ice or a cold pack on it for 10 to 20 minutes at a time. Try to do this every 1 to 2 hours for the next 3 days (when your child is awake) or until the swelling goes down. Put a thin cloth between the ice and your child's skin.\n",
      "* If your doctor gave your child exercises to do at home, help your child do them exactly as your doctor told you.\n",
      "* Don't let your child do anything that makes the pain worse.\n",
      "When should you call for help?\n",
      "\n",
      "Call 911 anytime you think your child may need emergency care. For example, call if:\n",
      "\n",
      "* Your child has trouble breathing. Symptoms may include: Using the belly muscles to breathe. The chest sinking in or the nostrils flaring when your child struggles to breathe.\n",
      "* Using the belly muscles to breathe.\n",
      "* The chest sinking in or the nostrils flaring when your child struggles to breathe.\n",
      "* Your child is very sleepy and you have trouble waking him or her.\n",
      "* Your child passes out (loses consciousness).\n",
      "Call your doctor now or seek immediate medical care if:\n",
      "\n",
      "* Your child has new or worse nausea or vomiting.\n",
      "* Your child has signs that the hip may be dislocated again. These signs include: Severe pain. A crooked leg that looks like the hip bone is out of position. Not being able to straighten the leg.\n",
      "* Severe pain.\n",
      "* A crooked leg that looks like the hip bone is out of position.\n",
      "* Not being able to straighten the leg.\n",
      "* Your child's leg or foot turns cold or changes color.\n",
      "* Your child can't feel or move his or her leg.\n",
      "Watch closely for changes in your child's health, and be sure to contact your doctor if:\n",
      "\n",
      "* Your child has new or worse pain.\n",
      "* Your child does not get better as expected.\n",
      "* Your child has problems with his or her cast or brace.\n"
     ]
    }
   ],
   "source": [
    "# HwNavigationSection\n",
    "\n",
    "sections = soup.find_all(\"div\", class_=\"HwNavigationSection\")\n",
    "\n",
    "for section in sections:\n",
    "\n",
    "    st =section.find(\"h2\", class_=\"HwSectionTitle\")\n",
    "    if (st is not None):\n",
    "        stt =  \" \".join(st.text.split())\n",
    "\n",
    "        print(stt+\"\\n\")\n",
    "    for p in section.findAll([\"p\", \"li\"]):\n",
    "        t =  \" \".join(p.text.split())\n",
    "        if (p.name == 'li'):\n",
    "            print(\"* \"+t)\n",
    "        else:\n",
    "            print(t+\"\\n\")\n",
    "        \n",
    "    \n",
    "    "
   ]
  },
  {
   "cell_type": "code",
   "execution_count": null,
   "metadata": {
    "collapsed": true
   },
   "outputs": [],
   "source": []
  },
  {
   "cell_type": "code",
   "execution_count": null,
   "metadata": {
    "collapsed": true
   },
   "outputs": [],
   "source": []
  },
  {
   "cell_type": "code",
   "execution_count": null,
   "metadata": {
    "collapsed": true
   },
   "outputs": [],
   "source": []
  }
 ],
 "metadata": {
  "kernelspec": {
   "display_name": "Python 3",
   "language": "python",
   "name": "python3"
  },
  "language_info": {
   "codemirror_mode": {
    "name": "ipython",
    "version": 3
   },
   "file_extension": ".py",
   "mimetype": "text/x-python",
   "name": "python",
   "nbconvert_exporter": "python",
   "pygments_lexer": "ipython3",
   "version": "3.6.3"
  }
 },
 "nbformat": 4,
 "nbformat_minor": 2
}
