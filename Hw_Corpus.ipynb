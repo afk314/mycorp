{
 "cells": [
  {
   "cell_type": "code",
   "execution_count": 1,
   "metadata": {
    "collapsed": true
   },
   "outputs": [],
   "source": [
    "import os, nltk\n",
    "import lxml.etree as ET"
   ]
  },
  {
   "cell_type": "code",
   "execution_count": 2,
   "metadata": {
    "collapsed": true
   },
   "outputs": [],
   "source": [
    "TEXT_DIR = 'output/'\n",
    "IN_PATH = \"/home/akimball/dev/content/mcs/hwxml/xml\"\n",
    "OUT_PATH = '/home/akimball/dev/python/projects/first/simplified_content'"
   ]
  },
  {
   "cell_type": "code",
   "execution_count": 3,
   "metadata": {
    "collapsed": true
   },
   "outputs": [],
   "source": [
    "xslt= ET.parse('/home/akimball/dev/oxygen/nlp/xslt/strip-prebuilt.xsl')\n",
    "transform = ET.XSLT(xslt)"
   ]
  },
  {
   "cell_type": "code",
   "execution_count": 4,
   "metadata": {
    "collapsed": true
   },
   "outputs": [],
   "source": [
    "def getXmlFiles(path):\n",
    "    result = [os.path.join(dp, f) for dp, dn, filenames in os.walk(path) for f in filenames if os.path.splitext(f)[1] == '.xml']\n",
    "    return result"
   ]
  },
  {
   "cell_type": "code",
   "execution_count": 5,
   "metadata": {
    "collapsed": true
   },
   "outputs": [],
   "source": [
    "def simplifyXml(file):\n",
    "    print(\"looking at file \"+file)\n",
    "    filename = os.path.basename(file);\n",
    "    name,ext = filename.split('.')\n",
    "    new_name = name+'.txt'\n",
    "    dom = ET.parse(file)\n",
    "    newdom = transform(dom)\n",
    "    transformed = ET.tostring(newdom, encoding=\"UTF8\", method=\"text\", pretty_print=True).decode('utf-8')\n",
    "    transformed = ' '.join(transformed.split())\n",
    "    with open(TEXT_DIR + new_name, \"w\") as text_file:\n",
    "        text_file.write(transformed)"
   ]
  },
  {
   "cell_type": "code",
   "execution_count": 7,
   "metadata": {
    "collapsed": true
   },
   "outputs": [],
   "source": [
    "def buildCorpus():\n",
    "    from nltk.corpus import PlaintextCorpusReader\n",
    "    return PlaintextCorpusReader(TEXT_DIR, '.*')"
   ]
  },
  {
   "cell_type": "code",
   "execution_count": 11,
   "metadata": {},
   "outputs": [
    {
     "name": "stdout",
     "output_type": "stream",
     "text": [
      "6, 13, 2 : aa100180.txt\n",
      "5, 17, 2 : aa100355.txt\n",
      "6, 18, 2 : aa100367.txt\n",
      "5, 16, 5 : aa10253.txt\n",
      "4, 17, 2 : aa102542.txt\n",
      "5, 15, 2 : aa102611.txt\n",
      "5, 17, 2 : aa102618.txt\n",
      "5, 17, 10 : aa103080.txt\n",
      "5, 16, 2 : aa103823.txt\n",
      "6, 19, 2 : aa104339spec.txt\n",
      "5, 14, 3 : aa104378.txt\n",
      "5, 17, 2 : aa104487spec.txt\n",
      "5, 19, 3 : aa104596spec.txt\n",
      "6, 18, 2 : aa104729spec.txt\n",
      "6, 17, 2 : aa104756spec.txt\n",
      "5, 16, 6 : aa105361.txt\n",
      "5, 29, 2 : aa106112.txt\n",
      "6, 22, 3 : aa106178.txt\n",
      "5, 21, 2 : aa106246.txt\n",
      "5, 21, 2 : aa106255spec.txt\n",
      "5, 19, 2 : aa106305spec.txt\n",
      "6, 18, 2 : aa106363spec.txt\n",
      "5, 11, 2 : aa106556.txt\n",
      "5, 15, 3 : aa106616.txt\n",
      "5, 16, 2 : aa107042.txt\n",
      "5, 17, 2 : aa107098.txt\n",
      "5, 13, 2 : aa107099.txt\n",
      "6, 17, 2 : aa107100.txt\n",
      "5, 15, 3 : aa107116.txt\n",
      "5, 17, 5 : aa10755.txt\n",
      "5, 15, 4 : aa107571.txt\n",
      "5, 13, 3 : aa108061.txt\n",
      "5, 15, 2 : aa108087.txt\n",
      "5, 17, 3 : aa108095.txt\n",
      "5, 15, 3 : aa108149.txt\n",
      "4, 28, 1 : aa10888.txt\n",
      "5, 27, 2 : aa108893.txt\n",
      "6, 12, 2 : aa108921.txt\n",
      "5, 13, 2 : aa109056.txt\n",
      "5, 17, 2 : aa109116.txt\n",
      "5, 17, 2 : aa111137.txt\n",
      "5, 17, 2 : aa111200spec.txt\n",
      "5, 19, 2 : aa111291.txt\n",
      "6, 14, 2 : aa111333.txt\n",
      "5, 22, 3 : aa111456.txt\n",
      "5, 20, 2 : aa111637.txt\n",
      "5, 19, 3 : aa112018.txt\n",
      "5, 19, 3 : aa112054.txt\n",
      "5, 17, 2 : aa112076.txt\n",
      "5, 12, 2 : aa112240.txt\n",
      "5, 18, 2 : aa112247.txt\n",
      "6, 12, 2 : aa112271.txt\n",
      "5, 21, 2 : aa112285.txt\n",
      "5, 14, 2 : aa113094.txt\n",
      "5, 18, 2 : aa113121.txt\n",
      "6, 14, 2 : aa113407.txt\n",
      "5, 16, 2 : aa113455.txt\n",
      "4, 14, 3 : aa113557.txt\n",
      "5, 15, 3 : aa113769spec.txt\n",
      "5, 16, 8 : aa114076.txt\n",
      "5, 18, 2 : aa114298.txt\n",
      "5, 21, 5 : aa114352.txt\n",
      "5, 16, 3 : aa114475.txt\n",
      "5, 18, 2 : aa114499.txt\n",
      "5, 18, 4 : aa114555.txt\n",
      "5, 19, 6 : aa114595.txt\n",
      "5, 16, 4 : aa114690.txt\n",
      "5, 20, 3 : aa115086.txt\n",
      "5, 22, 2 : aa115203.txt\n",
      "4, 19, 2 : aa115211.txt\n",
      "5, 15, 3 : aa115361.txt\n",
      "6, 15, 2 : aa115507.txt\n",
      "6, 15, 3 : aa115538.txt\n",
      "6, 20, 2 : aa115544.txt\n",
      "5, 17, 2 : aa115548.txt\n",
      "5, 23, 3 : aa115638.txt\n",
      "5, 17, 9 : aa115911.txt\n",
      "6, 13, 2 : aa116069.txt\n",
      "6, 17, 2 : aa116294.txt\n",
      "5, 18, 3 : aa11636.txt\n",
      "5, 18, 3 : aa116840spec.txt\n",
      "5, 21, 2 : aa116934.txt\n",
      "5, 14, 9 : aa117176.txt\n",
      "5, 16, 2 : aa117330.txt\n",
      "5, 19, 2 : aa118144.txt\n",
      "5, 19, 2 : aa118204.txt\n",
      "5, 18, 2 : aa118239.txt\n",
      "5, 19, 3 : aa118416.txt\n",
      "5, 17, 2 : aa118637spec.txt\n",
      "6, 21, 2 : aa118923.txt\n",
      "5, 17, 4 : aa118983.txt\n",
      "6, 19, 2 : aa119292spec.txt\n",
      "5, 18, 2 : aa119389.txt\n",
      "5, 14, 3 : aa119477.txt\n",
      "5, 20, 3 : aa12023.txt\n",
      "5, 17, 10 : aa121240.txt\n",
      "5, 20, 2 : aa121268.txt\n",
      "5, 17, 8 : aa121525.txt\n",
      "5, 17, 3 : aa122213.txt\n",
      "5, 16, 3 : aa122262.txt\n"
     ]
    }
   ],
   "source": [
    "corpus = buildCorpus()\n",
    "fileids = corpus.fileids()\n",
    "fileids = fileids[0:100]\n",
    "for fileid in fileids:\n",
    "    num_chars = len(corpus.raw(fileid))\n",
    "    num_words = len(corpus.words(fileid))\n",
    "    num_sents = len(corpus.sents(fileid))\n",
    "    num_vocab = len(set([w.lower() for w in corpus.words(fileid)]))\n",
    "    print(str(round(num_chars/num_words))+\", \"+str(round(num_words/num_sents))+\", \"+str(round(num_words/num_vocab))+\" : \"+fileid)\n"
   ]
  },
  {
   "cell_type": "code",
   "execution_count": null,
   "metadata": {
    "collapsed": true
   },
   "outputs": [],
   "source": []
  }
 ],
 "metadata": {
  "kernelspec": {
   "display_name": "Python 3",
   "language": "python",
   "name": "python3"
  },
  "language_info": {
   "codemirror_mode": {
    "name": "ipython",
    "version": 3
   },
   "file_extension": ".py",
   "mimetype": "text/x-python",
   "name": "python",
   "nbconvert_exporter": "python",
   "pygments_lexer": "ipython3",
   "version": "3.6.3"
  }
 },
 "nbformat": 4,
 "nbformat_minor": 2
}
